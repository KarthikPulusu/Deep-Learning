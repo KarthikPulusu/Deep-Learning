{
 "cells": [
  {
   "cell_type": "code",
   "execution_count": 2,
   "id": "7b9062cf",
   "metadata": {},
   "outputs": [],
   "source": [
    "import numpy as np\n",
    "import pandas as pd\n",
    "import seaborn as sns\n",
    "import matplotlib.pyplot as plt\n",
    "from sklearn.model_selection import train_test_split\n",
    "from sklearn.preprocessing import StandardScaler\n",
    "import torch.nn as nn\n",
    "import torch.optim as optim\n",
    "from torch.utils.data import DataLoader, TensorDataset"
   ]
  },
  {
   "cell_type": "code",
   "execution_count": 3,
   "id": "60384ded",
   "metadata": {},
   "outputs": [
    {
     "data": {
      "text/html": [
       "<div>\n",
       "<style scoped>\n",
       "    .dataframe tbody tr th:only-of-type {\n",
       "        vertical-align: middle;\n",
       "    }\n",
       "\n",
       "    .dataframe tbody tr th {\n",
       "        vertical-align: top;\n",
       "    }\n",
       "\n",
       "    .dataframe thead th {\n",
       "        text-align: right;\n",
       "    }\n",
       "</style>\n",
       "<table border=\"1\" class=\"dataframe\">\n",
       "  <thead>\n",
       "    <tr style=\"text-align: right;\">\n",
       "      <th></th>\n",
       "      <th>PatientID</th>\n",
       "      <th>Age</th>\n",
       "      <th>Gender</th>\n",
       "      <th>BMI</th>\n",
       "      <th>BloodPressure</th>\n",
       "      <th>Cholesterol</th>\n",
       "      <th>Diabetes</th>\n",
       "      <th>SmokingStatus</th>\n",
       "      <th>PhysicalActivity</th>\n",
       "      <th>Outcome</th>\n",
       "    </tr>\n",
       "  </thead>\n",
       "  <tbody>\n",
       "    <tr>\n",
       "      <th>0</th>\n",
       "      <td>1</td>\n",
       "      <td>69.0</td>\n",
       "      <td>Other</td>\n",
       "      <td>23.6</td>\n",
       "      <td>NaN</td>\n",
       "      <td>Normal</td>\n",
       "      <td>1</td>\n",
       "      <td>Former</td>\n",
       "      <td>High</td>\n",
       "      <td>0</td>\n",
       "    </tr>\n",
       "    <tr>\n",
       "      <th>1</th>\n",
       "      <td>2</td>\n",
       "      <td>32.0</td>\n",
       "      <td>Male</td>\n",
       "      <td>18.9</td>\n",
       "      <td>NaN</td>\n",
       "      <td>High</td>\n",
       "      <td>1</td>\n",
       "      <td>Former</td>\n",
       "      <td>Low</td>\n",
       "      <td>0</td>\n",
       "    </tr>\n",
       "    <tr>\n",
       "      <th>2</th>\n",
       "      <td>3</td>\n",
       "      <td>NaN</td>\n",
       "      <td>Other</td>\n",
       "      <td>29.4</td>\n",
       "      <td>120.6</td>\n",
       "      <td>High</td>\n",
       "      <td>0</td>\n",
       "      <td>Current</td>\n",
       "      <td>High</td>\n",
       "      <td>1</td>\n",
       "    </tr>\n",
       "    <tr>\n",
       "      <th>3</th>\n",
       "      <td>4</td>\n",
       "      <td>78.0</td>\n",
       "      <td>Male</td>\n",
       "      <td>21.9</td>\n",
       "      <td>91.3</td>\n",
       "      <td>High</td>\n",
       "      <td>0</td>\n",
       "      <td>Former</td>\n",
       "      <td>Low</td>\n",
       "      <td>1</td>\n",
       "    </tr>\n",
       "    <tr>\n",
       "      <th>4</th>\n",
       "      <td>5</td>\n",
       "      <td>38.0</td>\n",
       "      <td>Female</td>\n",
       "      <td>22.1</td>\n",
       "      <td>137.7</td>\n",
       "      <td>High</td>\n",
       "      <td>0</td>\n",
       "      <td>NaN</td>\n",
       "      <td>Low</td>\n",
       "      <td>0</td>\n",
       "    </tr>\n",
       "  </tbody>\n",
       "</table>\n",
       "</div>"
      ],
      "text/plain": [
       "   PatientID   Age  Gender   BMI  BloodPressure Cholesterol  Diabetes  \\\n",
       "0          1  69.0   Other  23.6            NaN      Normal         1   \n",
       "1          2  32.0    Male  18.9            NaN        High         1   \n",
       "2          3   NaN   Other  29.4          120.6        High         0   \n",
       "3          4  78.0    Male  21.9           91.3        High         0   \n",
       "4          5  38.0  Female  22.1          137.7        High         0   \n",
       "\n",
       "  SmokingStatus PhysicalActivity  Outcome  \n",
       "0        Former             High        0  \n",
       "1        Former              Low        0  \n",
       "2       Current             High        1  \n",
       "3        Former              Low        1  \n",
       "4           NaN              Low        0  "
      ]
     },
     "execution_count": 3,
     "metadata": {},
     "output_type": "execute_result"
    }
   ],
   "source": [
    "df=pd.read_csv(r'C:\\Users\\DELL\\OneDrive\\Desktop\\Gradious\\Assignments\\DL\\Batch Normalization, Optimizers, Autoencoders\\healthcare_dataset.csv')\n",
    "df.head()"
   ]
  },
  {
   "cell_type": "code",
   "execution_count": 4,
   "id": "3efdc91b",
   "metadata": {},
   "outputs": [
    {
     "data": {
      "text/html": [
       "<div>\n",
       "<style scoped>\n",
       "    .dataframe tbody tr th:only-of-type {\n",
       "        vertical-align: middle;\n",
       "    }\n",
       "\n",
       "    .dataframe tbody tr th {\n",
       "        vertical-align: top;\n",
       "    }\n",
       "\n",
       "    .dataframe thead th {\n",
       "        text-align: right;\n",
       "    }\n",
       "</style>\n",
       "<table border=\"1\" class=\"dataframe\">\n",
       "  <thead>\n",
       "    <tr style=\"text-align: right;\">\n",
       "      <th></th>\n",
       "      <th>PatientID</th>\n",
       "      <th>Age</th>\n",
       "      <th>BMI</th>\n",
       "      <th>BloodPressure</th>\n",
       "      <th>Diabetes</th>\n",
       "      <th>Outcome</th>\n",
       "    </tr>\n",
       "  </thead>\n",
       "  <tbody>\n",
       "    <tr>\n",
       "      <th>count</th>\n",
       "      <td>3000.000000</td>\n",
       "      <td>2700.000000</td>\n",
       "      <td>2700.000000</td>\n",
       "      <td>2700.000000</td>\n",
       "      <td>3000.000000</td>\n",
       "      <td>3000.000000</td>\n",
       "    </tr>\n",
       "    <tr>\n",
       "      <th>mean</th>\n",
       "      <td>1500.500000</td>\n",
       "      <td>52.694815</td>\n",
       "      <td>26.561556</td>\n",
       "      <td>129.953037</td>\n",
       "      <td>0.501667</td>\n",
       "      <td>0.496667</td>\n",
       "    </tr>\n",
       "    <tr>\n",
       "      <th>std</th>\n",
       "      <td>866.169729</td>\n",
       "      <td>20.555751</td>\n",
       "      <td>4.885207</td>\n",
       "      <td>28.786392</td>\n",
       "      <td>0.500081</td>\n",
       "      <td>0.500072</td>\n",
       "    </tr>\n",
       "    <tr>\n",
       "      <th>min</th>\n",
       "      <td>1.000000</td>\n",
       "      <td>18.000000</td>\n",
       "      <td>18.000000</td>\n",
       "      <td>80.000000</td>\n",
       "      <td>0.000000</td>\n",
       "      <td>0.000000</td>\n",
       "    </tr>\n",
       "    <tr>\n",
       "      <th>25%</th>\n",
       "      <td>750.750000</td>\n",
       "      <td>35.000000</td>\n",
       "      <td>22.400000</td>\n",
       "      <td>105.900000</td>\n",
       "      <td>0.000000</td>\n",
       "      <td>0.000000</td>\n",
       "    </tr>\n",
       "    <tr>\n",
       "      <th>50%</th>\n",
       "      <td>1500.500000</td>\n",
       "      <td>52.000000</td>\n",
       "      <td>26.600000</td>\n",
       "      <td>129.800000</td>\n",
       "      <td>1.000000</td>\n",
       "      <td>0.000000</td>\n",
       "    </tr>\n",
       "    <tr>\n",
       "      <th>75%</th>\n",
       "      <td>2250.250000</td>\n",
       "      <td>70.000000</td>\n",
       "      <td>30.700000</td>\n",
       "      <td>154.700000</td>\n",
       "      <td>1.000000</td>\n",
       "      <td>1.000000</td>\n",
       "    </tr>\n",
       "    <tr>\n",
       "      <th>max</th>\n",
       "      <td>3000.000000</td>\n",
       "      <td>89.000000</td>\n",
       "      <td>35.000000</td>\n",
       "      <td>180.000000</td>\n",
       "      <td>1.000000</td>\n",
       "      <td>1.000000</td>\n",
       "    </tr>\n",
       "  </tbody>\n",
       "</table>\n",
       "</div>"
      ],
      "text/plain": [
       "         PatientID          Age          BMI  BloodPressure     Diabetes  \\\n",
       "count  3000.000000  2700.000000  2700.000000    2700.000000  3000.000000   \n",
       "mean   1500.500000    52.694815    26.561556     129.953037     0.501667   \n",
       "std     866.169729    20.555751     4.885207      28.786392     0.500081   \n",
       "min       1.000000    18.000000    18.000000      80.000000     0.000000   \n",
       "25%     750.750000    35.000000    22.400000     105.900000     0.000000   \n",
       "50%    1500.500000    52.000000    26.600000     129.800000     1.000000   \n",
       "75%    2250.250000    70.000000    30.700000     154.700000     1.000000   \n",
       "max    3000.000000    89.000000    35.000000     180.000000     1.000000   \n",
       "\n",
       "           Outcome  \n",
       "count  3000.000000  \n",
       "mean      0.496667  \n",
       "std       0.500072  \n",
       "min       0.000000  \n",
       "25%       0.000000  \n",
       "50%       0.000000  \n",
       "75%       1.000000  \n",
       "max       1.000000  "
      ]
     },
     "execution_count": 4,
     "metadata": {},
     "output_type": "execute_result"
    }
   ],
   "source": [
    "df.describe()"
   ]
  },
  {
   "cell_type": "code",
   "execution_count": 5,
   "id": "844cc60d",
   "metadata": {},
   "outputs": [],
   "source": [
    "df.drop(columns=['PatientID'], inplace=True)"
   ]
  },
  {
   "cell_type": "code",
   "execution_count": 6,
   "id": "f5395d7c",
   "metadata": {},
   "outputs": [
    {
     "data": {
      "text/plain": [
       "Age                 300\n",
       "Gender                0\n",
       "BMI                 300\n",
       "BloodPressure       300\n",
       "Cholesterol         300\n",
       "Diabetes              0\n",
       "SmokingStatus       300\n",
       "PhysicalActivity      0\n",
       "Outcome               0\n",
       "dtype: int64"
      ]
     },
     "execution_count": 6,
     "metadata": {},
     "output_type": "execute_result"
    }
   ],
   "source": [
    "df.isnull().sum()  "
   ]
  },
  {
   "cell_type": "code",
   "execution_count": 7,
   "id": "21b0e6c4",
   "metadata": {},
   "outputs": [
    {
     "name": "stdout",
     "output_type": "stream",
     "text": [
      "0\n"
     ]
    }
   ],
   "source": [
    "print(df.duplicated().sum())"
   ]
  },
  {
   "cell_type": "code",
   "execution_count": 8,
   "id": "1b029005",
   "metadata": {},
   "outputs": [
    {
     "name": "stdout",
     "output_type": "stream",
     "text": [
      "<class 'pandas.core.frame.DataFrame'>\n",
      "RangeIndex: 3000 entries, 0 to 2999\n",
      "Data columns (total 9 columns):\n",
      " #   Column            Non-Null Count  Dtype  \n",
      "---  ------            --------------  -----  \n",
      " 0   Age               2700 non-null   float64\n",
      " 1   Gender            3000 non-null   object \n",
      " 2   BMI               2700 non-null   float64\n",
      " 3   BloodPressure     2700 non-null   float64\n",
      " 4   Cholesterol       2700 non-null   object \n",
      " 5   Diabetes          3000 non-null   int64  \n",
      " 6   SmokingStatus     2700 non-null   object \n",
      " 7   PhysicalActivity  3000 non-null   object \n",
      " 8   Outcome           3000 non-null   int64  \n",
      "dtypes: float64(3), int64(2), object(4)\n",
      "memory usage: 211.1+ KB\n"
     ]
    }
   ],
   "source": [
    "df.info()"
   ]
  },
  {
   "cell_type": "code",
   "execution_count": 9,
   "id": "c614e86b",
   "metadata": {},
   "outputs": [],
   "source": [
    "df=df.astype({'Diabetes': 'object', 'Outcome': 'object'})"
   ]
  },
  {
   "cell_type": "code",
   "execution_count": 10,
   "id": "22cbb9d6",
   "metadata": {},
   "outputs": [
    {
     "name": "stderr",
     "output_type": "stream",
     "text": [
      "C:\\Users\\DELL\\AppData\\Local\\Temp\\ipykernel_13028\\224946084.py:8: FutureWarning: A value is trying to be set on a copy of a DataFrame or Series through chained assignment using an inplace method.\n",
      "The behavior will change in pandas 3.0. This inplace method will never work because the intermediate object on which we are setting values always behaves as a copy.\n",
      "\n",
      "For example, when doing 'df[col].method(value, inplace=True)', try using 'df.method({col: value}, inplace=True)' or df[col] = df[col].method(value) instead, to perform the operation inplace on the original object.\n",
      "\n",
      "\n",
      "  df[col].fillna(df[col].mode()[0], inplace=True)\n"
     ]
    }
   ],
   "source": [
    "# Fill missing numeric values with the mean\n",
    "df_numeric = df.select_dtypes(include=[np.number])\n",
    "df[df_numeric.columns] = df_numeric.fillna(df_numeric.mean())\n",
    "\n",
    "# Fill missing categorical values with the mode\n",
    "df_categorical = df.select_dtypes(include=['object'])\n",
    "for col in df_categorical.columns:\n",
    "    df[col].fillna(df[col].mode()[0], inplace=True)\n",
    "\n"
   ]
  },
  {
   "cell_type": "code",
   "execution_count": 11,
   "id": "02390f4e",
   "metadata": {},
   "outputs": [
    {
     "data": {
      "text/html": [
       "<div>\n",
       "<style scoped>\n",
       "    .dataframe tbody tr th:only-of-type {\n",
       "        vertical-align: middle;\n",
       "    }\n",
       "\n",
       "    .dataframe tbody tr th {\n",
       "        vertical-align: top;\n",
       "    }\n",
       "\n",
       "    .dataframe thead th {\n",
       "        text-align: right;\n",
       "    }\n",
       "</style>\n",
       "<table border=\"1\" class=\"dataframe\">\n",
       "  <thead>\n",
       "    <tr style=\"text-align: right;\">\n",
       "      <th></th>\n",
       "      <th>Age</th>\n",
       "      <th>BMI</th>\n",
       "      <th>BloodPressure</th>\n",
       "    </tr>\n",
       "  </thead>\n",
       "  <tbody>\n",
       "    <tr>\n",
       "      <th>0</th>\n",
       "      <td>69.0</td>\n",
       "      <td>23.6</td>\n",
       "      <td>NaN</td>\n",
       "    </tr>\n",
       "    <tr>\n",
       "      <th>1</th>\n",
       "      <td>32.0</td>\n",
       "      <td>18.9</td>\n",
       "      <td>NaN</td>\n",
       "    </tr>\n",
       "    <tr>\n",
       "      <th>2</th>\n",
       "      <td>NaN</td>\n",
       "      <td>29.4</td>\n",
       "      <td>120.6</td>\n",
       "    </tr>\n",
       "    <tr>\n",
       "      <th>3</th>\n",
       "      <td>78.0</td>\n",
       "      <td>21.9</td>\n",
       "      <td>91.3</td>\n",
       "    </tr>\n",
       "    <tr>\n",
       "      <th>4</th>\n",
       "      <td>38.0</td>\n",
       "      <td>22.1</td>\n",
       "      <td>137.7</td>\n",
       "    </tr>\n",
       "    <tr>\n",
       "      <th>...</th>\n",
       "      <td>...</td>\n",
       "      <td>...</td>\n",
       "      <td>...</td>\n",
       "    </tr>\n",
       "    <tr>\n",
       "      <th>2995</th>\n",
       "      <td>44.0</td>\n",
       "      <td>29.5</td>\n",
       "      <td>80.6</td>\n",
       "    </tr>\n",
       "    <tr>\n",
       "      <th>2996</th>\n",
       "      <td>51.0</td>\n",
       "      <td>19.6</td>\n",
       "      <td>91.0</td>\n",
       "    </tr>\n",
       "    <tr>\n",
       "      <th>2997</th>\n",
       "      <td>61.0</td>\n",
       "      <td>30.4</td>\n",
       "      <td>137.3</td>\n",
       "    </tr>\n",
       "    <tr>\n",
       "      <th>2998</th>\n",
       "      <td>85.0</td>\n",
       "      <td>23.9</td>\n",
       "      <td>82.4</td>\n",
       "    </tr>\n",
       "    <tr>\n",
       "      <th>2999</th>\n",
       "      <td>32.0</td>\n",
       "      <td>29.6</td>\n",
       "      <td>119.7</td>\n",
       "    </tr>\n",
       "  </tbody>\n",
       "</table>\n",
       "<p>3000 rows × 3 columns</p>\n",
       "</div>"
      ],
      "text/plain": [
       "       Age   BMI  BloodPressure\n",
       "0     69.0  23.6            NaN\n",
       "1     32.0  18.9            NaN\n",
       "2      NaN  29.4          120.6\n",
       "3     78.0  21.9           91.3\n",
       "4     38.0  22.1          137.7\n",
       "...    ...   ...            ...\n",
       "2995  44.0  29.5           80.6\n",
       "2996  51.0  19.6           91.0\n",
       "2997  61.0  30.4          137.3\n",
       "2998  85.0  23.9           82.4\n",
       "2999  32.0  29.6          119.7\n",
       "\n",
       "[3000 rows x 3 columns]"
      ]
     },
     "execution_count": 11,
     "metadata": {},
     "output_type": "execute_result"
    }
   ],
   "source": [
    "df_numeric"
   ]
  },
  {
   "cell_type": "code",
   "execution_count": 12,
   "id": "bd1052a9",
   "metadata": {},
   "outputs": [
    {
     "data": {
      "text/html": [
       "<div>\n",
       "<style scoped>\n",
       "    .dataframe tbody tr th:only-of-type {\n",
       "        vertical-align: middle;\n",
       "    }\n",
       "\n",
       "    .dataframe tbody tr th {\n",
       "        vertical-align: top;\n",
       "    }\n",
       "\n",
       "    .dataframe thead th {\n",
       "        text-align: right;\n",
       "    }\n",
       "</style>\n",
       "<table border=\"1\" class=\"dataframe\">\n",
       "  <thead>\n",
       "    <tr style=\"text-align: right;\">\n",
       "      <th></th>\n",
       "      <th>Age</th>\n",
       "      <th>Gender</th>\n",
       "      <th>BMI</th>\n",
       "      <th>BloodPressure</th>\n",
       "      <th>Cholesterol</th>\n",
       "      <th>Diabetes</th>\n",
       "      <th>SmokingStatus</th>\n",
       "      <th>PhysicalActivity</th>\n",
       "      <th>Outcome</th>\n",
       "    </tr>\n",
       "  </thead>\n",
       "  <tbody>\n",
       "    <tr>\n",
       "      <th>0</th>\n",
       "      <td>69.000000</td>\n",
       "      <td>Other</td>\n",
       "      <td>23.6</td>\n",
       "      <td>129.953037</td>\n",
       "      <td>Normal</td>\n",
       "      <td>1</td>\n",
       "      <td>Former</td>\n",
       "      <td>High</td>\n",
       "      <td>0</td>\n",
       "    </tr>\n",
       "    <tr>\n",
       "      <th>1</th>\n",
       "      <td>32.000000</td>\n",
       "      <td>Male</td>\n",
       "      <td>18.9</td>\n",
       "      <td>129.953037</td>\n",
       "      <td>High</td>\n",
       "      <td>1</td>\n",
       "      <td>Former</td>\n",
       "      <td>Low</td>\n",
       "      <td>0</td>\n",
       "    </tr>\n",
       "    <tr>\n",
       "      <th>2</th>\n",
       "      <td>52.694815</td>\n",
       "      <td>Other</td>\n",
       "      <td>29.4</td>\n",
       "      <td>120.600000</td>\n",
       "      <td>High</td>\n",
       "      <td>0</td>\n",
       "      <td>Current</td>\n",
       "      <td>High</td>\n",
       "      <td>1</td>\n",
       "    </tr>\n",
       "    <tr>\n",
       "      <th>3</th>\n",
       "      <td>78.000000</td>\n",
       "      <td>Male</td>\n",
       "      <td>21.9</td>\n",
       "      <td>91.300000</td>\n",
       "      <td>High</td>\n",
       "      <td>0</td>\n",
       "      <td>Former</td>\n",
       "      <td>Low</td>\n",
       "      <td>1</td>\n",
       "    </tr>\n",
       "    <tr>\n",
       "      <th>4</th>\n",
       "      <td>38.000000</td>\n",
       "      <td>Female</td>\n",
       "      <td>22.1</td>\n",
       "      <td>137.700000</td>\n",
       "      <td>High</td>\n",
       "      <td>0</td>\n",
       "      <td>Never</td>\n",
       "      <td>Low</td>\n",
       "      <td>0</td>\n",
       "    </tr>\n",
       "    <tr>\n",
       "      <th>...</th>\n",
       "      <td>...</td>\n",
       "      <td>...</td>\n",
       "      <td>...</td>\n",
       "      <td>...</td>\n",
       "      <td>...</td>\n",
       "      <td>...</td>\n",
       "      <td>...</td>\n",
       "      <td>...</td>\n",
       "      <td>...</td>\n",
       "    </tr>\n",
       "    <tr>\n",
       "      <th>2995</th>\n",
       "      <td>44.000000</td>\n",
       "      <td>Female</td>\n",
       "      <td>29.5</td>\n",
       "      <td>80.600000</td>\n",
       "      <td>Normal</td>\n",
       "      <td>1</td>\n",
       "      <td>Current</td>\n",
       "      <td>Low</td>\n",
       "      <td>1</td>\n",
       "    </tr>\n",
       "    <tr>\n",
       "      <th>2996</th>\n",
       "      <td>51.000000</td>\n",
       "      <td>Female</td>\n",
       "      <td>19.6</td>\n",
       "      <td>91.000000</td>\n",
       "      <td>Normal</td>\n",
       "      <td>1</td>\n",
       "      <td>Never</td>\n",
       "      <td>Moderate</td>\n",
       "      <td>1</td>\n",
       "    </tr>\n",
       "    <tr>\n",
       "      <th>2997</th>\n",
       "      <td>61.000000</td>\n",
       "      <td>Other</td>\n",
       "      <td>30.4</td>\n",
       "      <td>137.300000</td>\n",
       "      <td>High</td>\n",
       "      <td>0</td>\n",
       "      <td>Former</td>\n",
       "      <td>Low</td>\n",
       "      <td>0</td>\n",
       "    </tr>\n",
       "    <tr>\n",
       "      <th>2998</th>\n",
       "      <td>85.000000</td>\n",
       "      <td>Female</td>\n",
       "      <td>23.9</td>\n",
       "      <td>82.400000</td>\n",
       "      <td>High</td>\n",
       "      <td>0</td>\n",
       "      <td>Former</td>\n",
       "      <td>Low</td>\n",
       "      <td>1</td>\n",
       "    </tr>\n",
       "    <tr>\n",
       "      <th>2999</th>\n",
       "      <td>32.000000</td>\n",
       "      <td>Male</td>\n",
       "      <td>29.6</td>\n",
       "      <td>119.700000</td>\n",
       "      <td>Normal</td>\n",
       "      <td>1</td>\n",
       "      <td>Former</td>\n",
       "      <td>Low</td>\n",
       "      <td>0</td>\n",
       "    </tr>\n",
       "  </tbody>\n",
       "</table>\n",
       "<p>3000 rows × 9 columns</p>\n",
       "</div>"
      ],
      "text/plain": [
       "            Age  Gender   BMI  BloodPressure Cholesterol Diabetes  \\\n",
       "0     69.000000   Other  23.6     129.953037      Normal        1   \n",
       "1     32.000000    Male  18.9     129.953037        High        1   \n",
       "2     52.694815   Other  29.4     120.600000        High        0   \n",
       "3     78.000000    Male  21.9      91.300000        High        0   \n",
       "4     38.000000  Female  22.1     137.700000        High        0   \n",
       "...         ...     ...   ...            ...         ...      ...   \n",
       "2995  44.000000  Female  29.5      80.600000      Normal        1   \n",
       "2996  51.000000  Female  19.6      91.000000      Normal        1   \n",
       "2997  61.000000   Other  30.4     137.300000        High        0   \n",
       "2998  85.000000  Female  23.9      82.400000        High        0   \n",
       "2999  32.000000    Male  29.6     119.700000      Normal        1   \n",
       "\n",
       "     SmokingStatus PhysicalActivity Outcome  \n",
       "0           Former             High       0  \n",
       "1           Former              Low       0  \n",
       "2          Current             High       1  \n",
       "3           Former              Low       1  \n",
       "4            Never              Low       0  \n",
       "...            ...              ...     ...  \n",
       "2995       Current              Low       1  \n",
       "2996         Never         Moderate       1  \n",
       "2997        Former              Low       0  \n",
       "2998        Former              Low       1  \n",
       "2999        Former              Low       0  \n",
       "\n",
       "[3000 rows x 9 columns]"
      ]
     },
     "execution_count": 12,
     "metadata": {},
     "output_type": "execute_result"
    }
   ],
   "source": [
    "df"
   ]
  },
  {
   "cell_type": "code",
   "execution_count": 13,
   "id": "e0f8e218",
   "metadata": {},
   "outputs": [],
   "source": [
    "X = df.iloc[:, :-1].values\n",
    "y = df.iloc[:, -1].values"
   ]
  },
  {
   "cell_type": "code",
   "execution_count": 14,
   "id": "9624a6d2",
   "metadata": {},
   "outputs": [
    {
     "data": {
      "text/plain": [
       "array([[69.0, 'Other', 23.6, ..., 1, 'Former', 'High'],\n",
       "       [32.0, 'Male', 18.9, ..., 1, 'Former', 'Low'],\n",
       "       [52.69481481481481, 'Other', 29.4, ..., 0, 'Current', 'High'],\n",
       "       ...,\n",
       "       [61.0, 'Other', 30.4, ..., 0, 'Former', 'Low'],\n",
       "       [85.0, 'Female', 23.9, ..., 0, 'Former', 'Low'],\n",
       "       [32.0, 'Male', 29.6, ..., 1, 'Former', 'Low']],\n",
       "      shape=(3000, 8), dtype=object)"
      ]
     },
     "execution_count": 14,
     "metadata": {},
     "output_type": "execute_result"
    }
   ],
   "source": [
    "X"
   ]
  },
  {
   "cell_type": "code",
   "execution_count": 15,
   "id": "74876ed2",
   "metadata": {},
   "outputs": [
    {
     "data": {
      "text/plain": [
       "array([0, 0, 1, ..., 0, 1, 0], shape=(3000,), dtype=object)"
      ]
     },
     "execution_count": 15,
     "metadata": {},
     "output_type": "execute_result"
    }
   ],
   "source": [
    "y"
   ]
  },
  {
   "cell_type": "code",
   "execution_count": 16,
   "id": "22c39ffb",
   "metadata": {},
   "outputs": [],
   "source": [
    "# encode categorical columns in df\n",
    "X_encoded = pd.get_dummies(df.drop(columns=['Outcome']), columns=df_categorical.columns[:-1], drop_first=True)"
   ]
  },
  {
   "cell_type": "code",
   "execution_count": 17,
   "id": "ea920c85",
   "metadata": {},
   "outputs": [],
   "source": [
    "X_scaler = StandardScaler()\n",
    "# y_scaler = StandardScaler()\n",
    "\n",
    "X_scaled = X_scaler.fit_transform(X_encoded)\n",
    "# y_scaled = y_scaler.fit_transform(y.reshape(-1, 1))  "
   ]
  },
  {
   "cell_type": "code",
   "execution_count": 18,
   "id": "fcebd0e9",
   "metadata": {},
   "outputs": [],
   "source": [
    "X_train, X_test, y_train, y_test = train_test_split(X_scaled, y, test_size=0.2, random_state=42)"
   ]
  },
  {
   "cell_type": "code",
   "execution_count": 19,
   "id": "d4776a62",
   "metadata": {},
   "outputs": [
    {
     "name": "stdout",
     "output_type": "stream",
     "text": [
      "<class 'numpy.ndarray'>\n",
      "object\n",
      "[0 1]\n"
     ]
    }
   ],
   "source": [
    "print(type(y_train))\n",
    "print(y_train.dtype)\n",
    "print(np.unique(y_train))\n"
   ]
  },
  {
   "cell_type": "markdown",
   "id": "0d17c083",
   "metadata": {},
   "source": [
    "### Convert to tensors"
   ]
  },
  {
   "cell_type": "code",
   "execution_count": 20,
   "id": "bd2e01ee",
   "metadata": {},
   "outputs": [],
   "source": [
    "\n",
    "\n",
    "import torch\n",
    "# Convert y_train and y_test to float32 explicitly\n",
    "y_train = y_train.astype(np.float32)\n",
    "y_test = y_test.astype(np.float32)\n",
    "\n",
    "# Now convert to PyTorch tensors\n",
    "X_train_tensor = torch.tensor(X_train, dtype=torch.float32)\n",
    "X_test_tensor = torch.tensor(X_test, dtype=torch.float32)\n",
    "y_train_tensor = torch.tensor(y_train).unsqueeze(1)\n",
    "y_test_tensor = torch.tensor(y_test).unsqueeze(1)\n"
   ]
  },
  {
   "cell_type": "code",
   "execution_count": 21,
   "id": "89df5a13",
   "metadata": {},
   "outputs": [],
   "source": [
    "import random\n",
    "def set_seed(seed=42):\n",
    "    random.seed(seed)\n",
    "    np.random.seed(seed)\n",
    "    torch.manual_seed(seed)\n",
    "    torch.cuda.manual_seed_all(seed)\n",
    "    torch.backends.cudnn.deterministic = True  # deterministic behaviour\n",
    "    torch.backends.cudnn.benchmark = False\n",
    "\n",
    "set_seed(42)"
   ]
  },
  {
   "cell_type": "markdown",
   "id": "a60e4d63",
   "metadata": {},
   "source": [
    "## Autoencoder for dimensionality reduction"
   ]
  },
  {
   "cell_type": "code",
   "execution_count": 22,
   "id": "086162a0",
   "metadata": {},
   "outputs": [],
   "source": [
    "\n",
    "class Autoencoder(nn.Module):\n",
    "    def __init__(self, input_dim):\n",
    "        super(Autoencoder, self).__init__()\n",
    "        self.encoder = nn.Sequential(\n",
    "            nn.Linear(input_dim, 64),\n",
    "            nn.ReLU(),\n",
    "            nn.Linear(64, 32)\n",
    "        )\n",
    "        self.decoder = nn.Sequential(\n",
    "            nn.Linear(32, 64),\n",
    "            nn.ReLU(),\n",
    "            nn.Linear(64, input_dim)\n",
    "        )\n",
    "    \n",
    "    def forward(self, x):\n",
    "        encoded = self.encoder(x)\n",
    "        decoded = self.decoder(encoded)\n",
    "        return decoded\n",
    "\n",
    "autoencoder = Autoencoder(X_train.shape[1])\n",
    "criterion = nn.MSELoss()\n",
    "optimizer = optim.Adam(autoencoder.parameters(), lr=0.001)\n",
    "train_loader = DataLoader(X_train_tensor, batch_size=32,shuffle=True)"
   ]
  },
  {
   "cell_type": "markdown",
   "id": "59bdc0ee",
   "metadata": {},
   "source": [
    "## Train Autoencoder"
   ]
  },
  {
   "cell_type": "code",
   "execution_count": 23,
   "id": "45410656",
   "metadata": {},
   "outputs": [],
   "source": [
    "for epoch in range(10):\n",
    "    for batch in train_loader:\n",
    "        reconstructed = autoencoder(batch)\n",
    "        loss = criterion(reconstructed, batch)\n",
    "        optimizer.zero_grad()\n",
    "        loss.backward()\n",
    "        optimizer.step()"
   ]
  },
  {
   "cell_type": "markdown",
   "id": "32157967",
   "metadata": {},
   "source": [
    "## Extract encoded features"
   ]
  },
  {
   "cell_type": "code",
   "execution_count": 24,
   "id": "64102e24",
   "metadata": {},
   "outputs": [],
   "source": [
    "\n",
    "with torch.no_grad():\n",
    "    X_train_reduced = autoencoder.encoder(X_train_tensor)\n",
    "    X_test_reduced = autoencoder.encoder(X_test_tensor)\n"
   ]
  },
  {
   "cell_type": "markdown",
   "id": "a5546c74",
   "metadata": {},
   "source": [
    "## Classifier with Batch Normalization"
   ]
  },
  {
   "cell_type": "code",
   "execution_count": 25,
   "id": "3671eb03",
   "metadata": {},
   "outputs": [],
   "source": [
    "class Classifier(nn.Module):\n",
    "    def __init__(self, input_dim):\n",
    "        super().__init__()\n",
    "        self.network = nn.Sequential(\n",
    "            nn.Linear(input_dim, 32),\n",
    "            nn.BatchNorm1d(32),\n",
    "            nn.ReLU(),\n",
    "            nn.Linear(32, 1),\n",
    "            nn.Sigmoid()\n",
    "        )\n",
    "\n",
    "    def forward(self, x):\n",
    "        return self.network(x)"
   ]
  },
  {
   "cell_type": "markdown",
   "id": "ee8622a3",
   "metadata": {},
   "source": [
    "### Training function with different optimizers and batch modes"
   ]
  },
  {
   "cell_type": "code",
   "execution_count": 26,
   "id": "352f6aba",
   "metadata": {},
   "outputs": [
    {
     "name": "stdout",
     "output_type": "stream",
     "text": [
      "Accuracy Results:\n",
      "adam_full: 0.5033\n",
      "adam_mini: 0.5300\n",
      "adam_stochastic: 0.5200\n",
      "adagrad_full: 0.4950\n",
      "adagrad_mini: 0.5117\n",
      "adagrad_stochastic: 0.5100\n"
     ]
    }
   ],
   "source": [
    "from sklearn.metrics import accuracy_score\n",
    "\n",
    "def train_classifier(optimizer_type='adam', batch_type='full'):\n",
    "    model = Classifier(X_train_reduced.shape[1])\n",
    "    criterion = nn.BCELoss()\n",
    "\n",
    "    # Set batch size depending on mode\n",
    "    if mode == 'mini':\n",
    "        batch_size = 32\n",
    "    elif mode == 'full':\n",
    "        batch_size = len(X_train_tensor)\n",
    "    elif mode == 'stochastic':\n",
    "        batch_size = 2  \n",
    "\n",
    "    # Dataloader with drop_last to avoid batch size 1\n",
    "    train_dataset = TensorDataset(X_train_reduced, y_train_tensor)\n",
    "    loader = DataLoader(train_dataset, batch_size=batch_size, shuffle=True, drop_last=True)\n",
    "\n",
    "\n",
    "    for epoch in range(10):\n",
    "        for xb, yb in loader:\n",
    "            preds = model(xb)\n",
    "            loss = criterion(preds, yb)\n",
    "            optimizer.zero_grad()\n",
    "            loss.backward()\n",
    "            optimizer.step()\n",
    "\n",
    "    # Evaluate\n",
    "    with torch.no_grad():\n",
    "        y_pred = model(X_test_reduced)\n",
    "        y_pred_cls = (y_pred > 0.5).float()\n",
    "        acc = accuracy_score(y_test_tensor.numpy(), y_pred_cls.numpy())\n",
    "    return acc\n",
    "\n",
    "# Evaluate all combinations\n",
    "results = {}\n",
    "for opt in ['adam', 'adagrad']:\n",
    "    for mode in ['full', 'mini', 'stochastic']:\n",
    "        acc = train_classifier(opt, mode)\n",
    "        results[f\"{opt}_{mode}\"] = acc\n",
    "\n",
    "print(\"Accuracy Results:\")\n",
    "for k, v in results.items():\n",
    "    print(f\"{k}: {v:.4f}\")"
   ]
  },
  {
   "cell_type": "markdown",
   "id": "e6cc4e4a",
   "metadata": {},
   "source": [
    "### Plotting"
   ]
  },
  {
   "cell_type": "code",
   "execution_count": 27,
   "id": "f2e96ece",
   "metadata": {},
   "outputs": [
    {
     "data": {
      "image/png": "[encoded data removed]",
      "text/plain": [
       "<Figure size 800x400 with 1 Axes>"
      ]
     },
     "metadata": {},
     "output_type": "display_data"
    }
   ],
   "source": [
    "labels = list(results.keys())\n",
    "accuracies = list(results.values())\n",
    "colors = ['#6baed6' if 'adam' in lbl else '#fd8d3c' for lbl in labels]\n",
    "\n",
    "plt.figure(figsize=(8, 4))\n",
    "bars = plt.bar(labels, accuracies, color=colors)\n",
    "plt.ylim(min(accuracies) - 0.01, max(accuracies) + 0.01)\n",
    "plt.ylabel('Accuracy')\n",
    "plt.title('Accuracy Comparison of Optimizers and Gradient Methods')\n",
    "plt.xticks(rotation=45)\n",
    "\n",
    "for bar in bars:\n",
    "    yval = bar.get_height()\n",
    "    plt.text(bar.get_x() + bar.get_width()/2, yval + 0.002, f\"{yval:.4f}\", ha='center', va='bottom')\n",
    "\n",
    "plt.grid(axis='y', linestyle='--', alpha=0.6)\n",
    "plt.tight_layout()\n",
    "plt.show()\n"
   ]
  },
  {
   "cell_type": "markdown",
   "id": "ae51d47a",
   "metadata": {},
   "source": [
    "## Results & Findings"
   ]
  },
  {
   "cell_type": "markdown",
   "id": "55b4d8e3",
   "metadata": {},
   "source": [
    "##### This study investigated the impact of dimensionality reduction using autoencoders and the influence of different gradient descent strategies combined with optimizers on a healthcare prediction task.\n",
    "\n",
    "##### An autoencoder was used to compress high-dimensional input features, helping improve training efficiency and reduce overfitting. A neural network classifier with batch normalization was trained on the compressed features using various optimization strategies."
   ]
  },
  {
   "cell_type": "markdown",
   "id": "52eb73de",
   "metadata": {},
   "source": [
    "## Observed Accuracy"
   ]
  },
  {
   "cell_type": "markdown",
   "id": "ba5fe5a3",
   "metadata": {},
   "source": [
    "Adam (Full-batch): 0.5033\n",
    "\n",
    "#### Adam (Mini-batch): 0.5300 ← Best Accuracy\n",
    "\n",
    "Adam (Stochastic): 0.5200\n",
    "\n",
    "Adagrad (Full-batch): 0.4950\n",
    "\n",
    "Adagrad (Mini-batch): 0.5117\n",
    "\n",
    "Adagrad (Stochastic): 0.5100"
   ]
  },
  {
   "cell_type": "markdown",
   "id": "bea7869e",
   "metadata": {},
   "source": [
    "### Conclusion"
   ]
  },
  {
   "cell_type": "markdown",
   "id": "70602c26",
   "metadata": {},
   "source": [
    "##### Among all configurations, the Adam optimizer with mini-batch gradient descent achieved the best performance, indicating a good balance between stability and frequent parameter updates. While Adagrad performed reasonably well, Adam’s adaptive learning rate mechanism led to better generalization and higher accuracy in this run.\n",
    "\n",
    "##### This confirms that the combination of autoencoders, batch normalization, and adaptive optimizers like Adam can significantly enhance model performance for healthcare datasets."
   ]
  }
 ],
 "metadata": {
  "kernelspec": {
   "display_name": "myenv",
   "language": "python",
   "name": "python3"
  },
  "language_info": {
   "codemirror_mode": {
    "name": "ipython",
    "version": 3
   },
   "file_extension": ".py",
   "mimetype": "text/x-python",
   "name": "python",
   "nbconvert_exporter": "python",
   "pygments_lexer": "ipython3",
   "version": "3.11.5"
  }
 },
 "nbformat": 4,
 "nbformat_minor": 5
}
