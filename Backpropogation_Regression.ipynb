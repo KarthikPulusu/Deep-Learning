{
 "cells": [
  {
   "cell_type": "code",
   "execution_count": 24,
   "id": "e78fe94d",
   "metadata": {},
   "outputs": [],
   "source": [
    "import numpy as np\n",
    "import pandas as pd\n",
    "import matplotlib.pyplot as plt\n"
   ]
  },
  {
   "cell_type": "code",
   "execution_count": 25,
   "id": "0144004d",
   "metadata": {},
   "outputs": [],
   "source": [
    "df=pd.DataFrame([[8,8,4],[7,9,5],[6,10,6],[5,12,7]],columns=['cgpa','profile_score','lpa'])"
   ]
  },
  {
   "cell_type": "code",
   "execution_count": 26,
   "id": "4bac15d0",
   "metadata": {},
   "outputs": [
    {
     "data": {
      "text/html": [
       "<div>\n",
       "<style scoped>\n",
       "    .dataframe tbody tr th:only-of-type {\n",
       "        vertical-align: middle;\n",
       "    }\n",
       "\n",
       "    .dataframe tbody tr th {\n",
       "        vertical-align: top;\n",
       "    }\n",
       "\n",
       "    .dataframe thead th {\n",
       "        text-align: right;\n",
       "    }\n",
       "</style>\n",
       "<table border=\"1\" class=\"dataframe\">\n",
       "  <thead>\n",
       "    <tr style=\"text-align: right;\">\n",
       "      <th></th>\n",
       "      <th>cgpa</th>\n",
       "      <th>profile_score</th>\n",
       "      <th>lpa</th>\n",
       "    </tr>\n",
       "  </thead>\n",
       "  <tbody>\n",
       "    <tr>\n",
       "      <th>0</th>\n",
       "      <td>8</td>\n",
       "      <td>8</td>\n",
       "      <td>4</td>\n",
       "    </tr>\n",
       "    <tr>\n",
       "      <th>1</th>\n",
       "      <td>7</td>\n",
       "      <td>9</td>\n",
       "      <td>5</td>\n",
       "    </tr>\n",
       "    <tr>\n",
       "      <th>2</th>\n",
       "      <td>6</td>\n",
       "      <td>10</td>\n",
       "      <td>6</td>\n",
       "    </tr>\n",
       "    <tr>\n",
       "      <th>3</th>\n",
       "      <td>5</td>\n",
       "      <td>12</td>\n",
       "      <td>7</td>\n",
       "    </tr>\n",
       "  </tbody>\n",
       "</table>\n",
       "</div>"
      ],
      "text/plain": [
       "   cgpa  profile_score  lpa\n",
       "0     8              8    4\n",
       "1     7              9    5\n",
       "2     6             10    6\n",
       "3     5             12    7"
      ]
     },
     "execution_count": 26,
     "metadata": {},
     "output_type": "execute_result"
    }
   ],
   "source": [
    "df"
   ]
  },
  {
   "cell_type": "code",
   "execution_count": 27,
   "id": "70f48988",
   "metadata": {},
   "outputs": [],
   "source": [
    "def intialize_parameters(layer_dims):\n",
    "    np.random.seed(3)\n",
    "    parameters={}\n",
    "    L=len(layer_dims)\n",
    "    for l in range(1,L):\n",
    "        parameters['w'+str(l)]=np.ones((layer_dims[l-1],layer_dims[l]))*0.1\n",
    "        parameters['b'+str(l)]=np.zeros((layer_dims[l],1))\n",
    "    return parameters"
   ]
  },
  {
   "cell_type": "code",
   "execution_count": 28,
   "id": "71d7af86",
   "metadata": {},
   "outputs": [
    {
     "data": {
      "text/plain": [
       "{'w1': array([[0.1, 0.1],\n",
       "        [0.1, 0.1]]),\n",
       " 'b1': array([[0.],\n",
       "        [0.]]),\n",
       " 'w2': array([[0.1],\n",
       "        [0.1]]),\n",
       " 'b2': array([[0.]])}"
      ]
     },
     "execution_count": 28,
     "metadata": {},
     "output_type": "execute_result"
    }
   ],
   "source": [
    "intialize_parameters([2,2,1])"
   ]
  },
  {
   "cell_type": "code",
   "execution_count": 29,
   "id": "89bad294",
   "metadata": {},
   "outputs": [],
   "source": [
    "def linear_forward(A_prev,w,b):\n",
    "    Z=np.dot(w.T,A_prev)+b\n",
    "    return Z"
   ]
  },
  {
   "cell_type": "code",
   "execution_count": 30,
   "id": "7fb2503c",
   "metadata": {},
   "outputs": [],
   "source": [
    "def L_layer_forward(X,parameters):\n",
    "    A=X\n",
    "    L = len(parameters) // 2\n",
    "    for l in range(1, L + 1):\n",
    "        A_prev = A\n",
    "        w = parameters['w' + str(l)]\n",
    "        b = parameters['b' + str(l)]\n",
    "        print(\"A\"+str(l-1)+\":\", A_prev)\n",
    "        print(\"w\"+str(l)+\":\", w)\n",
    "        print(\"b\"+str(l)+\":\", b)\n",
    "        print(\"--\"*20)\n",
    "        A = linear_forward(A_prev, w, b)\n",
    "        print(\"A\"+str(l)+\":\", A)\n",
    "        print(\"--\"*20)  # Assuming activation function is identity for regression\n",
    "    return A,A_prev"
   ]
  },
  {
   "cell_type": "code",
   "execution_count": 31,
   "id": "4020a1f2",
   "metadata": {},
   "outputs": [],
   "source": [
    "x=df[['cgpa','profile_score']].values[0].reshape(2,1)\n",
    "y=df[['lpa']].values[0][0]"
   ]
  },
  {
   "cell_type": "code",
   "execution_count": 32,
   "id": "70400ade",
   "metadata": {},
   "outputs": [
    {
     "name": "stdout",
     "output_type": "stream",
     "text": [
      "x: [[8]\n",
      " [8]]\n",
      "y: 4\n"
     ]
    }
   ],
   "source": [
    "print(\"x:\", x)\n",
    "print(\"y:\", y)"
   ]
  },
  {
   "cell_type": "code",
   "execution_count": 33,
   "id": "9bf7fe7d",
   "metadata": {},
   "outputs": [
    {
     "name": "stdout",
     "output_type": "stream",
     "text": [
      "A0: [[8]\n",
      " [8]]\n",
      "w1: [[0.1 0.1]\n",
      " [0.1 0.1]]\n",
      "b1: [[0.]\n",
      " [0.]]\n",
      "----------------------------------------\n",
      "A1: [[1.6]\n",
      " [1.6]]\n",
      "----------------------------------------\n",
      "A1: [[1.6]\n",
      " [1.6]]\n",
      "w2: [[0.1]\n",
      " [0.1]]\n",
      "b2: [[0.]]\n",
      "----------------------------------------\n",
      "A2: [[0.32]]\n",
      "----------------------------------------\n"
     ]
    }
   ],
   "source": [
    "parameters=intialize_parameters([2, 2, 1])\n",
    "y_hat,A1=L_layer_forward(x, parameters)"
   ]
  },
  {
   "cell_type": "code",
   "execution_count": 34,
   "id": "6ecd6dda",
   "metadata": {},
   "outputs": [],
   "source": [
    "y_hat=y_hat[0][0]"
   ]
  },
  {
   "cell_type": "code",
   "execution_count": 35,
   "id": "cc92aa6f",
   "metadata": {},
   "outputs": [
    {
     "data": {
      "text/plain": [
       "np.float64(0.32000000000000006)"
      ]
     },
     "execution_count": 35,
     "metadata": {},
     "output_type": "execute_result"
    }
   ],
   "source": [
    "y_hat"
   ]
  },
  {
   "cell_type": "code",
   "execution_count": 36,
   "id": "c8135da9",
   "metadata": {},
   "outputs": [
    {
     "data": {
      "text/plain": [
       "np.float64(13.542399999999997)"
      ]
     },
     "execution_count": 36,
     "metadata": {},
     "output_type": "execute_result"
    }
   ],
   "source": [
    "(y-y_hat)**2"
   ]
  },
  {
   "cell_type": "code",
   "execution_count": 37,
   "id": "4de5c10b",
   "metadata": {},
   "outputs": [
    {
     "data": {
      "text/plain": [
       "array([[1.6],\n",
       "       [1.6]])"
      ]
     },
     "execution_count": 37,
     "metadata": {},
     "output_type": "execute_result"
    }
   ],
   "source": [
    "A1"
   ]
  },
  {
   "cell_type": "code",
   "execution_count": 38,
   "id": "104a993c",
   "metadata": {},
   "outputs": [
    {
     "data": {
      "text/plain": [
       "{'w1': array([[0.1, 0.1],\n",
       "        [0.1, 0.1]]),\n",
       " 'b1': array([[0.],\n",
       "        [0.]]),\n",
       " 'w2': array([[0.1],\n",
       "        [0.1]]),\n",
       " 'b2': array([[0.]])}"
      ]
     },
     "execution_count": 38,
     "metadata": {},
     "output_type": "execute_result"
    }
   ],
   "source": [
    "parameters"
   ]
  },
  {
   "cell_type": "code",
   "execution_count": 39,
   "id": "fc58acbd",
   "metadata": {},
   "outputs": [],
   "source": [
    "def update_parameters(parameters,y,y_hat,A1,X):\n",
    "  parameters['w2'][0][0] = parameters['w2'][0][0] + (0.001 * 2 * (y - y_hat)*A1[0][0])\n",
    "  parameters['w2'][1][0] = parameters['w2'][1][0] + (0.001 * 2 * (y - y_hat)*A1[1][0])\n",
    "  parameters['b2'][0][0] = parameters['w2'][1][0] + (0.001 * 2 * (y - y_hat))\n",
    "\n",
    "  parameters['w1'][0][0] = parameters['w1'][0][0] + (0.001 * 2 * (y - y_hat)*parameters['w2'][0][0]*X[0][0])\n",
    "  parameters['w1'][0][1] = parameters['w1'][0][1] + (0.001 * 2 * (y - y_hat)*parameters['w2'][0][0]*X[1][0])\n",
    "  parameters['b1'][0][0] = parameters['b1'][0][0] + (0.001 * 2 * (y - y_hat)*parameters['w2'][0][0])\n",
    "\n",
    "  parameters['w1'][1][0] = parameters['w1'][1][0] + (0.001 * 2 * (y - y_hat)*parameters['w2'][1][0]*X[0][0])\n",
    "  parameters['w1'][1][1] = parameters['w1'][1][1] + (0.001 * 2 * (y - y_hat)*parameters['w2'][1][0]*X[1][0])\n",
    "  parameters['b1'][1][0] = parameters['b1'][1][0] + (0.001 * 2 * (y - y_hat)*parameters['w2'][1][0])"
   ]
  },
  {
   "cell_type": "code",
   "execution_count": 40,
   "id": "25daea45",
   "metadata": {},
   "outputs": [],
   "source": [
    "update_parameters(parameters,y,y_hat,A1,x)"
   ]
  },
  {
   "cell_type": "code",
   "execution_count": 41,
   "id": "903267f3",
   "metadata": {},
   "outputs": [
    {
     "data": {
      "text/plain": [
       "{'w1': array([[0.10658137, 0.10658137],\n",
       "        [0.10658137, 0.10658137]]),\n",
       " 'b1': array([[0.00082267],\n",
       "        [0.00082267]]),\n",
       " 'w2': array([[0.111776],\n",
       "        [0.111776]]),\n",
       " 'b2': array([[0.119136]])}"
      ]
     },
     "execution_count": 41,
     "metadata": {},
     "output_type": "execute_result"
    }
   ],
   "source": [
    "parameters"
   ]
  },
  {
   "cell_type": "code",
   "execution_count": 47,
   "id": "534b98f4",
   "metadata": {},
   "outputs": [
    {
     "name": "stdout",
     "output_type": "stream",
     "text": [
      "A0: [[ 5]\n",
      " [12]]\n",
      "w1: [[0.13035765 0.14471998]\n",
      " [0.13038727 0.14479107]]\n",
      "b1: [[0.00460744]\n",
      " [0.00461337]]\n",
      "----------------------------------------\n",
      "A1: [[2.22104295]\n",
      " [2.46570611]]\n",
      "----------------------------------------\n",
      "A1: [[2.22104295]\n",
      " [2.46570611]]\n",
      "w2: [[0.16031158]\n",
      " [0.16101066]]\n",
      "b2: [[0.16948514]]\n",
      "----------------------------------------\n",
      "A2: [[0.92254901]]\n",
      "----------------------------------------\n"
     ]
    }
   ],
   "source": [
    "x=df[['cgpa','profile_score']].values[3].reshape(2,1)\n",
    "y=df[['lpa']].values[3][0]\n",
    "\n",
    "y_hat,A1=L_layer_forward(x, parameters)\n",
    "y_hat=y_hat[0][0]\n"
   ]
  },
  {
   "cell_type": "code",
   "execution_count": 46,
   "id": "8914284a",
   "metadata": {},
   "outputs": [
    {
     "data": {
      "text/plain": [
       "{'w1': array([[0.13035765, 0.14471998],\n",
       "        [0.13038727, 0.14479107]]),\n",
       " 'b1': array([[0.00460744],\n",
       "        [0.00461337]]),\n",
       " 'w2': array([[0.16031158],\n",
       "        [0.16101066]]),\n",
       " 'b2': array([[0.16948514]])}"
      ]
     },
     "execution_count": 46,
     "metadata": {},
     "output_type": "execute_result"
    }
   ],
   "source": [
    "update_parameters(parameters,y,y_hat,A1,x)\n",
    "parameters"
   ]
  },
  {
   "cell_type": "code",
   "execution_count": 50,
   "id": "b355ef70",
   "metadata": {},
   "outputs": [
    {
     "name": "stdout",
     "output_type": "stream",
     "text": [
      "A0: [[8]\n",
      " [8]]\n",
      "w1: [[0.13035765 0.14471998]\n",
      " [0.13038727 0.14479107]]\n",
      "b1: [[0.00460744]\n",
      " [0.00461337]]\n",
      "----------------------------------------\n",
      "A1: [[2.09056682]\n",
      " [2.32070177]]\n",
      "----------------------------------------\n",
      "A1: [[2.09056682]\n",
      " [2.32070177]]\n",
      "w2: [[0.16031158]\n",
      " [0.16101066]]\n",
      "b2: [[0.16948514]]\n",
      "----------------------------------------\n",
      "A2: [[0.87828493]]\n",
      "----------------------------------------\n"
     ]
    },
    {
     "data": {
      "text/plain": [
       "{'w1': array([[0.13901673, 0.15337906],\n",
       "        [0.13915304, 0.15355684]]),\n",
       " 'b1': array([[0.00568983],\n",
       "        [0.00570909]]),\n",
       " 'w2': array([[0.17336389],\n",
       "        [0.17549979]]),\n",
       " 'b2': array([[0.18174322]])}"
      ]
     },
     "execution_count": 50,
     "metadata": {},
     "output_type": "execute_result"
    }
   ],
   "source": [
    "X = df[['cgpa', 'profile_score']].values[0].reshape(2,1) # Shape(no of features, no. of training example)\n",
    "y = df[['lpa']].values[0][0]\n",
    "\n",
    "# Parameter initialization\n",
    "# parameters = initialize_parameters([2,2,1])\n",
    "\n",
    "y_hat,A1 = L_layer_forward(X,parameters)\n",
    "y_hat = y_hat[0][0]\n",
    "\n",
    "update_parameters(parameters,y,y_hat,A1,X)\n",
    "\n",
    "parameters"
   ]
  },
  {
   "cell_type": "code",
   "execution_count": null,
   "id": "a87e2266",
   "metadata": {},
   "outputs": [],
   "source": []
  },
  {
   "cell_type": "code",
   "execution_count": null,
   "id": "d155aaf3",
   "metadata": {},
   "outputs": [],
   "source": [
    "X = df[['cgpa', 'profile_score']].values[1].reshape(2,1) # Shape(no of features, no. of training exaplme)\n",
    "y = df[['lpa']].values[1][0]\n",
    "\n",
    "y_hat,A1 = L_layer_forward(X,parameters)\n",
    "y_hat = y_hat[0][0]\n",
    "\n",
    "\n",
    "update_parameters(parameters,y,y_hat,A1,X)\n",
    "\n",
    "parameters"
   ]
  }
 ],
 "metadata": {
  "kernelspec": {
   "display_name": "Python 3",
   "language": "python",
   "name": "python3"
  },
  "language_info": {
   "codemirror_mode": {
    "name": "ipython",
    "version": 3
   },
   "file_extension": ".py",
   "mimetype": "text/x-python",
   "name": "python",
   "nbconvert_exporter": "python",
   "pygments_lexer": "ipython3",
   "version": "3.11.5"
  }
 },
 "nbformat": 4,
 "nbformat_minor": 5
}
